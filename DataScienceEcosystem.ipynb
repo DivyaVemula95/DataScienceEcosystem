{
 "cells": [
  {
   "cell_type": "markdown",
   "id": "8a2f9abf-0573-4bb1-aaeb-c126e5fa453d",
   "metadata": {},
   "source": [
    "# Data Science Tools and Ecosystem"
   ]
  },
  {
   "cell_type": "markdown",
   "id": "8161554a-c78a-4ecb-a245-01a601d1300f",
   "metadata": {},
   "source": [
    "## In this notebook, Data Science Tools and Ecosystem are summarized."
   ]
  },
  {
   "cell_type": "markdown",
   "id": "20c9470b-c4c1-4513-b025-71ab8975fcbd",
   "metadata": {},
   "source": [
    "**Objectives:**\n",
    "\n",
    "- List popular languages for Data Science  \n",
    "- Identify commonly used libraries in Data Science  \n",
    "- Explore Data Science tools  \n",
    "- Perform basic arithmetic operations in Python  \n",
    "- Convert minutes into hours using Python  "
   ]
  },
  {
   "cell_type": "markdown",
   "id": "7a451b18-a3e1-4077-92fa-3ae654440ce1",
   "metadata": {},
   "source": [
    "## Some of the popular languages that Data Scientists use are:\n",
    "\n",
    "1. Python\n",
    "2. R\n",
    "3. SQL\n",
    "4. Julia\n",
    "5. Scala\n"
   ]
  },
  {
   "cell_type": "markdown",
   "id": "70d39b27-5b6f-4045-9738-abf5f84418b5",
   "metadata": {},
   "source": [
    "## Some of the commonly used libraries used by Data Scientists include:\n",
    "\n",
    "1. NumPy\n",
    "2. Pandas\n",
    "3. Matplotlib\n",
    "4. Scikit-learn\n",
    "5. TensorFlow"
   ]
  },
  {
   "cell_type": "markdown",
   "id": "b7f33ddc-e1c0-4a06-b282-e5a7ff76888b",
   "metadata": {},
   "source": [
    "| Data Science Tools |\n",
    "|--------------------|\n",
    "| Jupyter Notebook  |\n",
    "| RStudio           |\n",
    "| Apache Zeppelin   |"
   ]
  },
  {
   "cell_type": "markdown",
   "id": "f40df706-05bc-45a4-b3d4-dc246eb64943",
   "metadata": {},
   "source": [
    "### Below are a few examples of evaluating arithmetic expressions in Python"
   ]
  },
  {
   "cell_type": "code",
   "execution_count": 10,
   "id": "cfb0d9b1-0a41-462d-a6cf-ff92f21a7a19",
   "metadata": {},
   "outputs": [
    {
     "name": "stdout",
     "output_type": "stream",
     "text": [
      "17\n"
     ]
    }
   ],
   "source": [
    "# This is a simple arithmetic expression to multiply then add integers\n",
    "result = (3 * 4) + 5\n",
    "print(result)  # Output should be 17"
   ]
  },
  {
   "cell_type": "code",
   "execution_count": 12,
   "id": "e850926e-71a4-4dfa-b437-66add4d92871",
   "metadata": {},
   "outputs": [
    {
     "name": "stdout",
     "output_type": "stream",
     "text": [
      "3.3333333333333335\n"
     ]
    }
   ],
   "source": [
    "# This will convert 200 minutes to hours by dividing by 60\n",
    "hours = 200 / 60\n",
    "print(hours) "
   ]
  },
  {
   "cell_type": "markdown",
   "id": "2d3fa9b0-bc5d-4dea-9c2b-c48c24efbea4",
   "metadata": {},
   "source": [
    "## Author\n",
    "Divya Vemula"
   ]
  }
 ],
 "metadata": {
  "kernelspec": {
   "display_name": "Python 3 (ipykernel)",
   "language": "python",
   "name": "python3"
  },
  "language_info": {
   "codemirror_mode": {
    "name": "ipython",
    "version": 3
   },
   "file_extension": ".py",
   "mimetype": "text/x-python",
   "name": "python",
   "nbconvert_exporter": "python",
   "pygments_lexer": "ipython3",
   "version": "3.12.4"
  }
 },
 "nbformat": 4,
 "nbformat_minor": 5
}
